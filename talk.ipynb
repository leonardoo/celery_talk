{
 "cells": [
  {
   "cell_type": "markdown",
   "id": "a1f4e621-5ce7-481b-9350-66cc8d624135",
   "metadata": {},
   "source": [
    "Celery\n",
    "=="
   ]
  },
  {
   "cell_type": "markdown",
   "id": "df5d7ff9-3e15-4e6e-90ea-5eb7140726a2",
   "metadata": {},
   "source": [
    "Celery es un sistema para procesar grandes cantidades de mensajes, de una manera distribuida y confiable"
   ]
  },
  {
   "cell_type": "markdown",
   "id": "0323c9ce-f1fa-4f4d-b4e3-f9298b36a65c",
   "metadata": {},
   "source": [
    "se centra en el procesamiento en tiempo real y al mismo tiempo que admite la programación de tareas."
   ]
  },
  {
   "cell_type": "markdown",
   "id": "9ce1444e-fd4e-4084-b637-26c8a27b6256",
   "metadata": {},
   "source": [
    "```python\n",
    "from celery import Celery\n",
    "\n",
    "app = Celery(\n",
    "    'tasks', \n",
    "    broker='redis://localhost:6379/0',\n",
    "    backend='redis://localhost:6379/0'\n",
    ")\n",
    "\n",
    "@app.task\n",
    "def add(x, y):\n",
    "    return x + y\n",
    "\n",
    "```"
   ]
  },
  {
   "cell_type": "code",
   "execution_count": 2,
   "id": "01126a6c-9436-425b-8bf6-a2720fe22f8d",
   "metadata": {},
   "outputs": [],
   "source": [
    "from tasks import add, mul_list\n",
    "from datetime import datetime, timedelta\n",
    "from IPython.core.interactiveshell import InteractiveShell\n",
    "InteractiveShell.ast_node_interactivity = 'all'"
   ]
  },
  {
   "cell_type": "code",
   "execution_count": 2,
   "id": "03cd688d-f2e5-485d-a4a3-2487b01041dd",
   "metadata": {},
   "outputs": [],
   "source": [
    "result = add.delay(1, 2)"
   ]
  },
  {
   "cell_type": "markdown",
   "id": "9c91456e-19cb-43a5-b4f5-0c830c4c805e",
   "metadata": {},
   "source": [
    "```\n",
    "[2021-09-16 17:36:11,621: INFO/MainProcess] Task tasks.add[45e9947e-d907-473e-a8f9-aaa2dc03b5b6] received\n",
    "```"
   ]
  },
  {
   "cell_type": "code",
   "execution_count": 3,
   "id": "d3075582-43be-4921-8b16-ac91641db4da",
   "metadata": {},
   "outputs": [
    {
     "data": {
      "text/plain": [
       "3"
      ]
     },
     "execution_count": 3,
     "metadata": {},
     "output_type": "execute_result"
    }
   ],
   "source": [
    "result.get()"
   ]
  },
  {
   "cell_type": "markdown",
   "id": "1df9a250-c198-450c-9fbe-eee6c5a7d7ae",
   "metadata": {},
   "source": [
    "```\n",
    "[2021-09-16 17:36:11,625: INFO/ForkPoolWorker-7] Task tasks.add[45e9947e-d907-473e-a8f9-aaa2dc03b5b6] succeeded in 0.0019244389841333032s: 3\n",
    "```"
   ]
  },
  {
   "cell_type": "markdown",
   "id": "cd448759-3eb9-4161-9cae-e85c20c1f5bb",
   "metadata": {},
   "source": [
    "## Llamar a una task"
   ]
  },
  {
   "cell_type": "markdown",
   "id": "16ba15a2-e415-4053-a05a-a57a6a15cd93",
   "metadata": {},
   "source": [
    "**apply_async**\n",
    "```python\n",
    "add.apply_async((1, 2))\n",
    "```\n",
    "**delay**\n",
    "```python\n",
    "add.delay(1, 2)\n",
    "```\n",
    "\n",
    "**Call**\n",
    "```python\n",
    "add(1, 2)\n",
    "```"
   ]
  },
  {
   "cell_type": "markdown",
   "id": "f6eb72b8-2076-48b9-8e98-62729e935e1f",
   "metadata": {
    "tags": []
   },
   "source": [
    "### Call\n",
    "\n",
    "Es el llamado normal del codigo, no invocara a  ningun worker"
   ]
  },
  {
   "cell_type": "code",
   "execution_count": 4,
   "id": "0ae99a15-1d8d-4e45-b247-5103db402d6d",
   "metadata": {},
   "outputs": [
    {
     "data": {
      "text/plain": [
       "3"
      ]
     },
     "execution_count": 4,
     "metadata": {},
     "output_type": "execute_result"
    }
   ],
   "source": [
    "add(1, 2)"
   ]
  },
  {
   "cell_type": "markdown",
   "id": "c04b29d2-4c03-4e4a-b36e-d2772237081f",
   "metadata": {},
   "source": [
    "### delay\n",
    "\n",
    "es un shortcut para enviar tareas a los brokers, pero no admite parametros mas alla de los establecidos la tarea"
   ]
  },
  {
   "cell_type": "code",
   "execution_count": 5,
   "id": "63db49aa-43c3-4cda-90dc-352846fd7f45",
   "metadata": {},
   "outputs": [],
   "source": [
    "result = add.delay(2, 2)"
   ]
  },
  {
   "cell_type": "code",
   "execution_count": 6,
   "id": "c03b016b-a4fb-44ff-ab57-d19486c31dbf",
   "metadata": {},
   "outputs": [
    {
     "data": {
      "text/plain": [
       "4"
      ]
     },
     "execution_count": 6,
     "metadata": {},
     "output_type": "execute_result"
    }
   ],
   "source": [
    "result.get()"
   ]
  },
  {
   "cell_type": "markdown",
   "id": "b51fac48-873f-463a-a68b-c7752f456a28",
   "metadata": {},
   "source": [
    "### apply_async\n",
    "\n",
    "metodo para enviar tareas al broker"
   ]
  },
  {
   "cell_type": "code",
   "execution_count": 7,
   "id": "012c9c94-801a-4881-90a2-5cf872472875",
   "metadata": {},
   "outputs": [
    {
     "data": {
      "text/plain": [
       "5"
      ]
     },
     "execution_count": 7,
     "metadata": {},
     "output_type": "execute_result"
    }
   ],
   "source": [
    "result = add.apply_async((2,3))\n",
    "result.get()"
   ]
  },
  {
   "cell_type": "markdown",
   "id": "7384bb17-76f7-4da4-a16c-22e112c90bec",
   "metadata": {},
   "source": [
    "apply_async nos ofrece un mayor control sobre la ejecuccion de las tareas"
   ]
  },
  {
   "cell_type": "code",
   "execution_count": 8,
   "id": "ebbd4637-41a0-43a5-b7da-86089fab12b1",
   "metadata": {},
   "outputs": [
    {
     "data": {
      "text/plain": [
       "datetime.datetime(2021, 9, 16, 18, 42, 46, 848799)"
      ]
     },
     "execution_count": 8,
     "metadata": {},
     "output_type": "execute_result"
    },
    {
     "data": {
      "text/plain": [
       "5"
      ]
     },
     "execution_count": 8,
     "metadata": {},
     "output_type": "execute_result"
    },
    {
     "data": {
      "text/plain": [
       "datetime.datetime(2021, 9, 16, 18, 42, 56, 912566)"
      ]
     },
     "execution_count": 8,
     "metadata": {},
     "output_type": "execute_result"
    }
   ],
   "source": [
    "datetime.now()\n",
    "result = add.apply_async((2,3), countdown=10)\n",
    "result.get()\n",
    "datetime.now()"
   ]
  },
  {
   "cell_type": "code",
   "execution_count": 9,
   "id": "7e0c0d52-e53c-4a7c-978f-356256ad8d9a",
   "metadata": {},
   "outputs": [
    {
     "data": {
      "text/plain": [
       "datetime.datetime(2021, 9, 16, 18, 42, 56, 922407)"
      ]
     },
     "execution_count": 9,
     "metadata": {},
     "output_type": "execute_result"
    },
    {
     "name": "stdout",
     "output_type": "stream",
     "text": [
      "2021-09-16 23:43:01.925259\n"
     ]
    },
    {
     "data": {
      "text/plain": [
       "8"
      ]
     },
     "execution_count": 9,
     "metadata": {},
     "output_type": "execute_result"
    },
    {
     "data": {
      "text/plain": [
       "datetime.datetime(2021, 9, 16, 18, 43, 2, 48115)"
      ]
     },
     "execution_count": 9,
     "metadata": {},
     "output_type": "execute_result"
    }
   ],
   "source": [
    "datetime.now()\n",
    "eta = datetime.utcnow() + timedelta(seconds=5)\n",
    "print(eta)\n",
    "result = add.apply_async((2,6), eta=eta)\n",
    "result.get()\n",
    "datetime.now()"
   ]
  },
  {
   "cell_type": "markdown",
   "id": "6afeccee-68b4-4f3e-a552-7936cf9d279a",
   "metadata": {},
   "source": [
    "### Signature\n",
    "\n",
    "es un un clase que envuelve los parametros y opciones de ejecucion de una tarea "
   ]
  },
  {
   "cell_type": "code",
   "execution_count": 10,
   "id": "7383f071-f6ca-4d13-b7c3-52dd3a8ae0b9",
   "metadata": {},
   "outputs": [
    {
     "data": {
      "text/plain": [
       "5"
      ]
     },
     "execution_count": 10,
     "metadata": {},
     "output_type": "execute_result"
    }
   ],
   "source": [
    "signature = add.signature((2,3), countdown=4)\n",
    "result = signature.delay()\n",
    "result.get()"
   ]
  },
  {
   "cell_type": "code",
   "execution_count": 11,
   "id": "db1cd4ad-72df-4966-bc97-e77d86284892",
   "metadata": {},
   "outputs": [
    {
     "data": {
      "text/plain": [
       "5"
      ]
     },
     "execution_count": 11,
     "metadata": {},
     "output_type": "execute_result"
    }
   ],
   "source": [
    "signature = add.s(2,3)\n",
    "result = signature.delay()\n",
    "result.get()"
   ]
  },
  {
   "cell_type": "code",
   "execution_count": 12,
   "id": "0afadd9a-bfc1-4e85-9b6c-381b416fda8e",
   "metadata": {},
   "outputs": [
    {
     "data": {
      "text/plain": [
       "5"
      ]
     },
     "execution_count": 12,
     "metadata": {},
     "output_type": "execute_result"
    }
   ],
   "source": [
    "signature = add.s(2,3)\n",
    "result = signature.apply_async(countdown=5)\n",
    "result.get()"
   ]
  },
  {
   "cell_type": "code",
   "execution_count": 8,
   "id": "25e4021d-dbeb-4e6f-8a6c-76b74321d576",
   "metadata": {},
   "outputs": [
    {
     "data": {
      "text/plain": [
       "tasks.add(10)"
      ]
     },
     "execution_count": 8,
     "metadata": {},
     "output_type": "execute_result"
    },
    {
     "data": {
      "text/plain": [
       "tasks.add(20)"
      ]
     },
     "execution_count": 8,
     "metadata": {},
     "output_type": "execute_result"
    },
    {
     "data": {
      "text/plain": [
       "5"
      ]
     },
     "execution_count": 8,
     "metadata": {},
     "output_type": "execute_result"
    },
    {
     "data": {
      "text/plain": [
       "[15, 25]"
      ]
     },
     "execution_count": 8,
     "metadata": {},
     "output_type": "execute_result"
    }
   ],
   "source": [
    "signature = add.s(2,3)\n",
    "signature.link(add.s(10))\n",
    "signature.link(add.s(20))\n",
    "result = signature.delay()\n",
    "result.get()\n",
    "result.children[0].get()"
   ]
  },
  {
   "cell_type": "code",
   "execution_count": 14,
   "id": "4bc3a660-e41e-4e27-944b-b186c1e2425c",
   "metadata": {},
   "outputs": [
    {
     "data": {
      "text/plain": [
       "6"
      ]
     },
     "execution_count": 14,
     "metadata": {},
     "output_type": "execute_result"
    }
   ],
   "source": [
    "signature = add.signature((2, ))\n",
    "result = signature.delay(4)\n",
    "result.get()"
   ]
  },
  {
   "cell_type": "markdown",
   "id": "c48d3221-8eb9-4ae3-8f76-0f6d296aa1ec",
   "metadata": {},
   "source": [
    "### Chain"
   ]
  },
  {
   "cell_type": "code",
   "execution_count": 15,
   "id": "82b270ca-e522-465a-970c-12da4ae1b3ff",
   "metadata": {},
   "outputs": [],
   "source": [
    "from celery import chain"
   ]
  },
  {
   "cell_type": "code",
   "execution_count": 16,
   "id": "f3636813-e60b-4cf9-91b8-6a359f42b883",
   "metadata": {},
   "outputs": [
    {
     "data": {
      "text/plain": [
       "17"
      ]
     },
     "execution_count": 16,
     "metadata": {},
     "output_type": "execute_result"
    }
   ],
   "source": [
    "res = chain(add.s(2, 2), add.s(4), add.signature((9, ), countdown=8))()\n",
    "res.get()"
   ]
  },
  {
   "cell_type": "markdown",
   "id": "9ad85c74-ac35-458f-9d81-5df549e7d0bc",
   "metadata": {},
   "source": [
    "### Group"
   ]
  },
  {
   "cell_type": "code",
   "execution_count": 17,
   "id": "128f947f-558f-4ecf-b1c5-a67994e17a3d",
   "metadata": {},
   "outputs": [],
   "source": [
    "from celery import group\n"
   ]
  },
  {
   "cell_type": "code",
   "execution_count": 18,
   "id": "fad00652-5860-4a16-bd04-b6f4e7a36a3b",
   "metadata": {},
   "outputs": [
    {
     "data": {
      "text/plain": [
       "[0, 2, 4, 6, 8, 10, 12, 14, 16, 18]"
      ]
     },
     "execution_count": 18,
     "metadata": {},
     "output_type": "execute_result"
    }
   ],
   "source": [
    "res = group(add.s(i, i) for i in range(10))()\n",
    "res.get()"
   ]
  },
  {
   "cell_type": "markdown",
   "id": "cd3b2701-249a-4d69-b40c-743e4a92d014",
   "metadata": {},
   "source": [
    "### Chords"
   ]
  },
  {
   "cell_type": "code",
   "execution_count": 19,
   "id": "57732a2d-00d3-4e3d-a12d-dafc113a9c9c",
   "metadata": {},
   "outputs": [],
   "source": [
    "from celery import chord"
   ]
  },
  {
   "cell_type": "code",
   "execution_count": 26,
   "id": "eadaef4a-655d-4569-88f6-cbcf686303f7",
   "metadata": {},
   "outputs": [
    {
     "data": {
      "text/plain": [
       "362880"
      ]
     },
     "execution_count": 26,
     "metadata": {},
     "output_type": "execute_result"
    }
   ],
   "source": [
    "chord(group([add.s(0, i) for i in range(1, 10)]))(mul_list.s()).get()"
   ]
  },
  {
   "cell_type": "markdown",
   "id": "68a253f5-8d38-4d5d-88b7-ab86f630ed83",
   "metadata": {},
   "source": [
    "### Map"
   ]
  },
  {
   "cell_type": "code",
   "execution_count": 40,
   "id": "05e76874-6ada-4d7a-b870-6444ca0d6382",
   "metadata": {},
   "outputs": [
    {
     "data": {
      "text/plain": [
       "[362880, 121645100408832000]"
      ]
     },
     "execution_count": 40,
     "metadata": {},
     "output_type": "execute_result"
    }
   ],
   "source": [
    "result = mul_list.map([list(range(1, 10)), list(range(1, 20))]).delay()\n",
    "result.get()"
   ]
  },
  {
   "cell_type": "code",
   "execution_count": null,
   "id": "fea64d68-85e0-48e9-93ad-36aae3063da2",
   "metadata": {},
   "outputs": [],
   "source": []
  },
  {
   "cell_type": "code",
   "execution_count": 16,
   "id": "e31881c7-b69f-40f9-9e57-3c8a34352ea3",
   "metadata": {},
   "outputs": [],
   "source": [
    "from tasks import create_task, get_task_info"
   ]
  },
  {
   "cell_type": "code",
   "execution_count": 15,
   "id": "867e74ce-061b-4a99-95d7-d26e59d7cc32",
   "metadata": {},
   "outputs": [
    {
     "data": {
      "text/plain": [
       "'http://localhost:5000/status/9857b0ea-7256-4c49-890c-4f7e635315d0/'"
      ]
     },
     "execution_count": 15,
     "metadata": {},
     "output_type": "execute_result"
    }
   ],
   "source": [
    "result = create_task.delay()\n",
    "result.get()"
   ]
  },
  {
   "cell_type": "code",
   "execution_count": 20,
   "id": "7f7647f1-6d86-443f-a0f4-b4b36bc7df16",
   "metadata": {},
   "outputs": [
    {
     "data": {
      "text/plain": [
       "tasks.get_task_info()"
      ]
     },
     "execution_count": 20,
     "metadata": {},
     "output_type": "execute_result"
    },
    {
     "data": {
      "text/plain": [
       "'http://localhost:5000/status/2f103101-59f7-4545-bd96-68a30236e6f6/'"
      ]
     },
     "execution_count": 20,
     "metadata": {},
     "output_type": "execute_result"
    },
    {
     "data": {
      "text/plain": [
       "{'current': 100,\n",
       " 'result': 42,\n",
       " 'state': 'SUCCESS',\n",
       " 'status': 'Task completed!',\n",
       " 'total': 100}"
      ]
     },
     "execution_count": 20,
     "metadata": {},
     "output_type": "execute_result"
    }
   ],
   "source": [
    "func = create_task.s()\n",
    "func.link(get_task_info.s())\n",
    "result = func.delay()\n",
    "result.get()\n",
    "result.children[0].get()"
   ]
  },
  {
   "cell_type": "code",
   "execution_count": null,
   "id": "a1f24ad8-984a-4160-ad8b-119ab3f27fd8",
   "metadata": {},
   "outputs": [],
   "source": []
  }
 ],
 "metadata": {
  "kernelspec": {
   "display_name": "Python 3 (ipykernel)",
   "language": "python",
   "name": "python3"
  },
  "language_info": {
   "codemirror_mode": {
    "name": "ipython",
    "version": 3
   },
   "file_extension": ".py",
   "mimetype": "text/x-python",
   "name": "python",
   "nbconvert_exporter": "python",
   "pygments_lexer": "ipython3",
   "version": "3.8.10"
  }
 },
 "nbformat": 4,
 "nbformat_minor": 5
}
